{
 "cells": [
  {
   "cell_type": "code",
   "execution_count": 1,
   "metadata": {},
   "outputs": [],
   "source": [
    "# Import libraries\n",
    "from tensorflow.keras.models import Sequential\n",
    "from tensorflow.keras.layers import Dense, Convolution2D,MaxPooling2D,Flatten\n",
    "from tensorflow.keras.preprocessing.image import ImageDataGenerator"
   ]
  },
  {
   "cell_type": "code",
   "execution_count": 2,
   "metadata": {},
   "outputs": [],
   "source": [
    "train_datagen = ImageDataGenerator(rescale = 1./255, shear_range = 0.2, zoom_range = 0.2, horizontal_flip = True)\n",
    "test_datagen = ImageDataGenerator(rescale = 1./255)"
   ]
  },
  {
   "cell_type": "code",
   "execution_count": 3,
   "metadata": {},
   "outputs": [
    {
     "name": "stdout",
     "output_type": "stream",
     "text": [
      "Found 101 images belonging to 5 classes.\n",
      "Found 101 images belonging to 5 classes.\n"
     ]
    }
   ],
   "source": [
    "# unified all images to same size with the help of target argument \n",
    "x_train = train_datagen.flow_from_directory(r\"C:\\Users\\malsa\\Desktop\\Python\\IBM\\Assignments\\dataSet\\trainset\", target_size = (64, 64), batch_size = 32, class_mode = \"categorical\")\n",
    "x_test = test_datagen.flow_from_directory(r\"C:\\Users\\malsa\\Desktop\\Python\\IBM\\Assignments\\dataSet\\testset\", target_size = (64, 64), batch_size = 32, class_mode = \"categorical\")"
   ]
  },
  {
   "cell_type": "code",
   "execution_count": 4,
   "metadata": {},
   "outputs": [
    {
     "name": "stderr",
     "output_type": "stream",
     "text": [
      "D:\\Users\\malsa\\anaconda3\\lib\\site-packages\\tensorflow\\python\\keras\\engine\\training.py:1940: UserWarning: `Model.fit_generator` is deprecated and will be removed in a future version. Please use `Model.fit`, which supports generators.\n",
      "  warnings.warn('`Model.fit_generator` is deprecated and '\n"
     ]
    },
    {
     "name": "stdout",
     "output_type": "stream",
     "text": [
      "Epoch 1/75\n",
      "4/4 [==============================] - 1s 360ms/step - loss: 2.1024 - accuracy: 0.1782 - val_loss: 1.6236 - val_accuracy: 0.2970\n",
      "Epoch 2/75\n",
      "4/4 [==============================] - 1s 223ms/step - loss: 1.5666 - accuracy: 0.3069 - val_loss: 1.4316 - val_accuracy: 0.3663\n",
      "Epoch 3/75\n",
      "4/4 [==============================] - 1s 264ms/step - loss: 1.4483 - accuracy: 0.2871 - val_loss: 1.3194 - val_accuracy: 0.5248\n",
      "Epoch 4/75\n",
      "4/4 [==============================] - 1s 232ms/step - loss: 1.2880 - accuracy: 0.4851 - val_loss: 1.2035 - val_accuracy: 0.5050\n",
      "Epoch 5/75\n",
      "4/4 [==============================] - 1s 216ms/step - loss: 1.2310 - accuracy: 0.5149 - val_loss: 1.1469 - val_accuracy: 0.6436\n",
      "Epoch 6/75\n",
      "4/4 [==============================] - 1s 239ms/step - loss: 1.1646 - accuracy: 0.5743 - val_loss: 1.0944 - val_accuracy: 0.5842\n",
      "Epoch 7/75\n",
      "4/4 [==============================] - 1s 284ms/step - loss: 1.0875 - accuracy: 0.5842 - val_loss: 0.9895 - val_accuracy: 0.6733\n",
      "Epoch 8/75\n",
      "4/4 [==============================] - 1s 225ms/step - loss: 1.0494 - accuracy: 0.6238 - val_loss: 1.0317 - val_accuracy: 0.5842\n",
      "Epoch 9/75\n",
      "4/4 [==============================] - 1s 231ms/step - loss: 0.9769 - accuracy: 0.7030 - val_loss: 0.8948 - val_accuracy: 0.7624\n",
      "Epoch 10/75\n",
      "4/4 [==============================] - 1s 231ms/step - loss: 0.9401 - accuracy: 0.7327 - val_loss: 0.8567 - val_accuracy: 0.7525\n",
      "Epoch 11/75\n",
      "4/4 [==============================] - 1s 228ms/step - loss: 0.8999 - accuracy: 0.7426 - val_loss: 0.9176 - val_accuracy: 0.5941\n",
      "Epoch 12/75\n",
      "4/4 [==============================] - 1s 267ms/step - loss: 0.9124 - accuracy: 0.6535 - val_loss: 0.7332 - val_accuracy: 0.8119\n",
      "Epoch 13/75\n",
      "4/4 [==============================] - 1s 226ms/step - loss: 0.7345 - accuracy: 0.7723 - val_loss: 0.6220 - val_accuracy: 0.8416\n",
      "Epoch 14/75\n",
      "4/4 [==============================] - 1s 225ms/step - loss: 0.7522 - accuracy: 0.7921 - val_loss: 0.6806 - val_accuracy: 0.7525\n",
      "Epoch 15/75\n",
      "4/4 [==============================] - 1s 226ms/step - loss: 0.6781 - accuracy: 0.8218 - val_loss: 0.6248 - val_accuracy: 0.7921\n",
      "Epoch 16/75\n",
      "4/4 [==============================] - 1s 239ms/step - loss: 0.7028 - accuracy: 0.7228 - val_loss: 0.4818 - val_accuracy: 0.8416\n",
      "Epoch 17/75\n",
      "4/4 [==============================] - 1s 228ms/step - loss: 0.7158 - accuracy: 0.7228 - val_loss: 0.5409 - val_accuracy: 0.8317\n",
      "Epoch 18/75\n",
      "4/4 [==============================] - 1s 271ms/step - loss: 0.6287 - accuracy: 0.8020 - val_loss: 0.6399 - val_accuracy: 0.7624\n",
      "Epoch 19/75\n",
      "4/4 [==============================] - 1s 224ms/step - loss: 0.5767 - accuracy: 0.8119 - val_loss: 0.4195 - val_accuracy: 0.8911\n",
      "Epoch 20/75\n",
      "4/4 [==============================] - 1s 229ms/step - loss: 0.4925 - accuracy: 0.8713 - val_loss: 0.5484 - val_accuracy: 0.7822\n",
      "Epoch 21/75\n",
      "4/4 [==============================] - 1s 261ms/step - loss: 0.4850 - accuracy: 0.8416 - val_loss: 0.4056 - val_accuracy: 0.8812\n",
      "Epoch 22/75\n",
      "4/4 [==============================] - 1s 222ms/step - loss: 0.4599 - accuracy: 0.8515 - val_loss: 0.4523 - val_accuracy: 0.8119\n",
      "Epoch 23/75\n",
      "4/4 [==============================] - 1s 258ms/step - loss: 0.4994 - accuracy: 0.8515 - val_loss: 0.4415 - val_accuracy: 0.8416\n",
      "Epoch 24/75\n",
      "4/4 [==============================] - 1s 219ms/step - loss: 0.4267 - accuracy: 0.8614 - val_loss: 0.3764 - val_accuracy: 0.8515\n",
      "Epoch 25/75\n",
      "4/4 [==============================] - 1s 230ms/step - loss: 0.4415 - accuracy: 0.8416 - val_loss: 0.2757 - val_accuracy: 0.9505\n",
      "Epoch 26/75\n",
      "4/4 [==============================] - 1s 221ms/step - loss: 0.4030 - accuracy: 0.9109 - val_loss: 0.3097 - val_accuracy: 0.9010\n",
      "Epoch 27/75\n",
      "4/4 [==============================] - 1s 220ms/step - loss: 0.3315 - accuracy: 0.9109 - val_loss: 0.3336 - val_accuracy: 0.8713\n",
      "Epoch 28/75\n",
      "4/4 [==============================] - 1s 219ms/step - loss: 0.3580 - accuracy: 0.8812 - val_loss: 0.2472 - val_accuracy: 0.9307\n",
      "Epoch 29/75\n",
      "4/4 [==============================] - 1s 259ms/step - loss: 0.3155 - accuracy: 0.9109 - val_loss: 0.2286 - val_accuracy: 0.9406\n",
      "Epoch 30/75\n",
      "4/4 [==============================] - 1s 219ms/step - loss: 0.3025 - accuracy: 0.9208 - val_loss: 0.3026 - val_accuracy: 0.9010\n",
      "Epoch 31/75\n",
      "4/4 [==============================] - 1s 223ms/step - loss: 0.3144 - accuracy: 0.9010 - val_loss: 0.3233 - val_accuracy: 0.8416\n",
      "Epoch 32/75\n",
      "4/4 [==============================] - 1s 231ms/step - loss: 0.2671 - accuracy: 0.9307 - val_loss: 0.2146 - val_accuracy: 0.9406\n",
      "Epoch 33/75\n",
      "4/4 [==============================] - 1s 239ms/step - loss: 0.2479 - accuracy: 0.9505 - val_loss: 0.2013 - val_accuracy: 0.9505\n",
      "Epoch 34/75\n",
      "4/4 [==============================] - 1s 277ms/step - loss: 0.2290 - accuracy: 0.9505 - val_loss: 0.1947 - val_accuracy: 0.9505\n",
      "Epoch 35/75\n",
      "4/4 [==============================] - 1s 277ms/step - loss: 0.3006 - accuracy: 0.8812 - val_loss: 0.1906 - val_accuracy: 0.9604\n",
      "Epoch 36/75\n",
      "4/4 [==============================] - 1s 273ms/step - loss: 0.1822 - accuracy: 0.9505 - val_loss: 0.2682 - val_accuracy: 0.8713\n",
      "Epoch 37/75\n",
      "4/4 [==============================] - 1s 227ms/step - loss: 0.1987 - accuracy: 0.9505 - val_loss: 0.1666 - val_accuracy: 0.9703\n",
      "Epoch 38/75\n",
      "4/4 [==============================] - 1s 226ms/step - loss: 0.1757 - accuracy: 0.9703 - val_loss: 0.1400 - val_accuracy: 0.9703\n",
      "Epoch 39/75\n",
      "4/4 [==============================] - 1s 233ms/step - loss: 0.1736 - accuracy: 0.9802 - val_loss: 0.1916 - val_accuracy: 0.9406\n",
      "Epoch 40/75\n",
      "4/4 [==============================] - 1s 236ms/step - loss: 0.2273 - accuracy: 0.9307 - val_loss: 0.2174 - val_accuracy: 0.9208\n",
      "Epoch 41/75\n",
      "4/4 [==============================] - 1s 229ms/step - loss: 0.1686 - accuracy: 0.9406 - val_loss: 0.0984 - val_accuracy: 0.9802\n",
      "Epoch 42/75\n",
      "4/4 [==============================] - 1s 232ms/step - loss: 0.1340 - accuracy: 0.9802 - val_loss: 0.0949 - val_accuracy: 0.9802\n",
      "Epoch 43/75\n",
      "4/4 [==============================] - 1s 265ms/step - loss: 0.1846 - accuracy: 0.9406 - val_loss: 0.1403 - val_accuracy: 0.9604\n",
      "Epoch 44/75\n",
      "4/4 [==============================] - 1s 275ms/step - loss: 0.1591 - accuracy: 0.9604 - val_loss: 0.1542 - val_accuracy: 0.9505\n",
      "Epoch 45/75\n",
      "4/4 [==============================] - 1s 222ms/step - loss: 0.1736 - accuracy: 0.9505 - val_loss: 0.1000 - val_accuracy: 0.9802\n",
      "Epoch 46/75\n",
      "4/4 [==============================] - 1s 230ms/step - loss: 0.1041 - accuracy: 1.0000 - val_loss: 0.1463 - val_accuracy: 0.9505\n",
      "Epoch 47/75\n",
      "4/4 [==============================] - 1s 221ms/step - loss: 0.1149 - accuracy: 0.9802 - val_loss: 0.0847 - val_accuracy: 0.9802\n",
      "Epoch 48/75\n",
      "4/4 [==============================] - 1s 226ms/step - loss: 0.1084 - accuracy: 0.9802 - val_loss: 0.0661 - val_accuracy: 0.9802\n",
      "Epoch 49/75\n",
      "4/4 [==============================] - 1s 241ms/step - loss: 0.1329 - accuracy: 0.9802 - val_loss: 0.1805 - val_accuracy: 0.9307\n",
      "Epoch 50/75\n",
      "4/4 [==============================] - 1s 226ms/step - loss: 0.1464 - accuracy: 0.9604 - val_loss: 0.0878 - val_accuracy: 0.9802\n",
      "Epoch 51/75\n",
      "4/4 [==============================] - 1s 219ms/step - loss: 0.1149 - accuracy: 0.9703 - val_loss: 0.0509 - val_accuracy: 1.0000\n",
      "Epoch 52/75\n",
      "4/4 [==============================] - 1s 264ms/step - loss: 0.1024 - accuracy: 0.9901 - val_loss: 0.0607 - val_accuracy: 0.9901\n",
      "Epoch 53/75\n",
      "4/4 [==============================] - 1s 242ms/step - loss: 0.1156 - accuracy: 0.9802 - val_loss: 0.1066 - val_accuracy: 0.9901\n",
      "Epoch 54/75\n",
      "4/4 [==============================] - 1s 225ms/step - loss: 0.0985 - accuracy: 0.9901 - val_loss: 0.0849 - val_accuracy: 0.9802\n",
      "Epoch 55/75\n",
      "4/4 [==============================] - 1s 232ms/step - loss: 0.0872 - accuracy: 0.9901 - val_loss: 0.0530 - val_accuracy: 1.0000\n",
      "Epoch 56/75\n",
      "4/4 [==============================] - 1s 236ms/step - loss: 0.0683 - accuracy: 0.9901 - val_loss: 0.0987 - val_accuracy: 0.9802\n",
      "Epoch 57/75\n",
      "4/4 [==============================] - 1s 259ms/step - loss: 0.1043 - accuracy: 0.9802 - val_loss: 0.0704 - val_accuracy: 1.0000\n",
      "Epoch 58/75\n",
      "4/4 [==============================] - 1s 235ms/step - loss: 0.0684 - accuracy: 1.0000 - val_loss: 0.0561 - val_accuracy: 0.9802\n",
      "Epoch 59/75\n"
     ]
    },
    {
     "name": "stdout",
     "output_type": "stream",
     "text": [
      "4/4 [==============================] - 1s 228ms/step - loss: 0.0879 - accuracy: 1.0000 - val_loss: 0.0356 - val_accuracy: 1.0000\n",
      "Epoch 60/75\n",
      "4/4 [==============================] - 1s 266ms/step - loss: 0.0607 - accuracy: 1.0000 - val_loss: 0.0575 - val_accuracy: 0.9901\n",
      "Epoch 61/75\n",
      "4/4 [==============================] - 1s 225ms/step - loss: 0.0636 - accuracy: 1.0000 - val_loss: 0.0845 - val_accuracy: 0.9901\n",
      "Epoch 62/75\n",
      "4/4 [==============================] - 1s 231ms/step - loss: 0.0598 - accuracy: 1.0000 - val_loss: 0.0481 - val_accuracy: 0.9901\n",
      "Epoch 63/75\n",
      "4/4 [==============================] - 1s 265ms/step - loss: 0.0612 - accuracy: 1.0000 - val_loss: 0.0309 - val_accuracy: 0.9901\n",
      "Epoch 64/75\n",
      "4/4 [==============================] - 1s 223ms/step - loss: 0.0615 - accuracy: 0.9901 - val_loss: 0.0491 - val_accuracy: 0.9901\n",
      "Epoch 65/75\n",
      "4/4 [==============================] - 1s 230ms/step - loss: 0.0348 - accuracy: 1.0000 - val_loss: 0.0349 - val_accuracy: 1.0000\n",
      "Epoch 66/75\n",
      "4/4 [==============================] - 1s 245ms/step - loss: 0.0398 - accuracy: 1.0000 - val_loss: 0.0360 - val_accuracy: 0.9901\n",
      "Epoch 67/75\n",
      "4/4 [==============================] - 1s 249ms/step - loss: 0.0633 - accuracy: 0.9901 - val_loss: 0.0548 - val_accuracy: 0.9901\n",
      "Epoch 68/75\n",
      "4/4 [==============================] - 1s 232ms/step - loss: 0.0463 - accuracy: 1.0000 - val_loss: 0.0323 - val_accuracy: 1.0000\n",
      "Epoch 69/75\n",
      "4/4 [==============================] - 1s 221ms/step - loss: 0.1106 - accuracy: 0.9703 - val_loss: 0.0261 - val_accuracy: 1.0000\n",
      "Epoch 70/75\n",
      "4/4 [==============================] - 1s 271ms/step - loss: 0.0746 - accuracy: 0.9802 - val_loss: 0.1417 - val_accuracy: 0.9604\n",
      "Epoch 71/75\n",
      "4/4 [==============================] - 1s 225ms/step - loss: 0.0654 - accuracy: 0.9802 - val_loss: 0.0400 - val_accuracy: 0.9901\n",
      "Epoch 72/75\n",
      "4/4 [==============================] - 1s 223ms/step - loss: 0.0792 - accuracy: 0.9802 - val_loss: 0.1233 - val_accuracy: 0.9604\n",
      "Epoch 73/75\n",
      "4/4 [==============================] - 1s 228ms/step - loss: 0.0635 - accuracy: 1.0000 - val_loss: 0.0195 - val_accuracy: 1.0000\n",
      "Epoch 74/75\n",
      "4/4 [==============================] - 1s 255ms/step - loss: 0.0787 - accuracy: 0.9802 - val_loss: 0.0398 - val_accuracy: 1.0000\n",
      "Epoch 75/75\n",
      "4/4 [==============================] - 1s 241ms/step - loss: 0.0361 - accuracy: 1.0000 - val_loss: 0.0438 - val_accuracy: 0.9901\n"
     ]
    },
    {
     "data": {
      "text/plain": [
       "<tensorflow.python.keras.callbacks.History at 0x1c31c720700>"
      ]
     },
     "execution_count": 4,
     "metadata": {},
     "output_type": "execute_result"
    }
   ],
   "source": [
    "CNN = Sequential()\n",
    "CNN.add(Convolution2D(32, (3,3), input_shape = (64, 64, 3)))#convolution layer\n",
    "CNN.add(MaxPooling2D(2,2))#pooling layer \n",
    "CNN.add(Flatten())#flatten layer\n",
    "CNN.add(Dense(units = 101, kernel_initializer = 'random_uniform', activation = 'relu'))#hidden layer\n",
    "CNN.add(Dense(units = 5, kernel_initializer = 'random_uniform', activation = 'softmax'))#output layer\n",
    "CNN.compile(optimizer = 'adam', loss = 'categorical_crossentropy', metrics = ['accuracy'])#Compile the model \n",
    "CNN.fit_generator(x_train, steps_per_epoch = len(x_train), epochs = 75, validation_data = x_test, validation_steps = len(x_test))"
   ]
  },
  {
   "cell_type": "code",
   "execution_count": 6,
   "metadata": {},
   "outputs": [],
   "source": [
    "CNN.save(\"vehicles.h5\")"
   ]
  },
  {
   "cell_type": "code",
   "execution_count": null,
   "metadata": {},
   "outputs": [],
   "source": []
  }
 ],
 "metadata": {
  "kernelspec": {
   "display_name": "Python 3",
   "language": "python",
   "name": "python3"
  },
  "language_info": {
   "codemirror_mode": {
    "name": "ipython",
    "version": 3
   },
   "file_extension": ".py",
   "mimetype": "text/x-python",
   "name": "python",
   "nbconvert_exporter": "python",
   "pygments_lexer": "ipython3",
   "version": "3.8.5"
  }
 },
 "nbformat": 4,
 "nbformat_minor": 4
}
