{
 "cells": [
  {
   "cell_type": "code",
   "execution_count": 1,
   "metadata": {},
   "outputs": [],
   "source": [
    "#Importing some important libraries \n",
    "import numpy as np \n",
    "import pandas as pd\n",
    "#important libraries to habdle catigerocal data\n",
    "from sklearn.compose import ColumnTransformer\n",
    "from sklearn.preprocessing import OneHotEncoder\n",
    "from sklearn.preprocessing import LabelEncoder\n",
    "#libraries to handle splitting \n",
    "from sklearn.model_selection import train_test_split\n",
    "#libraries to handle feature scaling \n",
    "from sklearn.preprocessing import StandardScaler\n",
    "# DL libraries\n",
    "from tensorflow.keras.models import Sequential  \n",
    "from tensorflow.keras.layers import Dense"
   ]
  },
  {
   "cell_type": "code",
   "execution_count": 2,
   "metadata": {},
   "outputs": [],
   "source": [
    "#Reading dataset\n",
    "df = pd.read_csv('bank.csv')"
   ]
  },
  {
   "cell_type": "code",
   "execution_count": 3,
   "metadata": {},
   "outputs": [
    {
     "data": {
      "text/html": [
       "<div>\n",
       "<style scoped>\n",
       "    .dataframe tbody tr th:only-of-type {\n",
       "        vertical-align: middle;\n",
       "    }\n",
       "\n",
       "    .dataframe tbody tr th {\n",
       "        vertical-align: top;\n",
       "    }\n",
       "\n",
       "    .dataframe thead th {\n",
       "        text-align: right;\n",
       "    }\n",
       "</style>\n",
       "<table border=\"1\" class=\"dataframe\">\n",
       "  <thead>\n",
       "    <tr style=\"text-align: right;\">\n",
       "      <th></th>\n",
       "      <th>age</th>\n",
       "      <th>job</th>\n",
       "      <th>marital</th>\n",
       "      <th>education</th>\n",
       "      <th>default</th>\n",
       "      <th>balance</th>\n",
       "      <th>housing</th>\n",
       "      <th>loan</th>\n",
       "      <th>contact</th>\n",
       "      <th>day</th>\n",
       "      <th>month</th>\n",
       "      <th>duration</th>\n",
       "      <th>campaign</th>\n",
       "      <th>pdays</th>\n",
       "      <th>previous</th>\n",
       "      <th>poutcome</th>\n",
       "      <th>deposit</th>\n",
       "    </tr>\n",
       "  </thead>\n",
       "  <tbody>\n",
       "    <tr>\n",
       "      <th>0</th>\n",
       "      <td>59</td>\n",
       "      <td>admin.</td>\n",
       "      <td>married</td>\n",
       "      <td>secondary</td>\n",
       "      <td>no</td>\n",
       "      <td>2343</td>\n",
       "      <td>yes</td>\n",
       "      <td>no</td>\n",
       "      <td>unknown</td>\n",
       "      <td>5</td>\n",
       "      <td>may</td>\n",
       "      <td>1042</td>\n",
       "      <td>1</td>\n",
       "      <td>-1</td>\n",
       "      <td>0</td>\n",
       "      <td>unknown</td>\n",
       "      <td>yes</td>\n",
       "    </tr>\n",
       "    <tr>\n",
       "      <th>1</th>\n",
       "      <td>56</td>\n",
       "      <td>admin.</td>\n",
       "      <td>married</td>\n",
       "      <td>secondary</td>\n",
       "      <td>no</td>\n",
       "      <td>45</td>\n",
       "      <td>no</td>\n",
       "      <td>no</td>\n",
       "      <td>unknown</td>\n",
       "      <td>5</td>\n",
       "      <td>may</td>\n",
       "      <td>1467</td>\n",
       "      <td>1</td>\n",
       "      <td>-1</td>\n",
       "      <td>0</td>\n",
       "      <td>unknown</td>\n",
       "      <td>yes</td>\n",
       "    </tr>\n",
       "    <tr>\n",
       "      <th>2</th>\n",
       "      <td>41</td>\n",
       "      <td>technician</td>\n",
       "      <td>married</td>\n",
       "      <td>secondary</td>\n",
       "      <td>no</td>\n",
       "      <td>1270</td>\n",
       "      <td>yes</td>\n",
       "      <td>no</td>\n",
       "      <td>unknown</td>\n",
       "      <td>5</td>\n",
       "      <td>may</td>\n",
       "      <td>1389</td>\n",
       "      <td>1</td>\n",
       "      <td>-1</td>\n",
       "      <td>0</td>\n",
       "      <td>unknown</td>\n",
       "      <td>yes</td>\n",
       "    </tr>\n",
       "    <tr>\n",
       "      <th>3</th>\n",
       "      <td>55</td>\n",
       "      <td>services</td>\n",
       "      <td>married</td>\n",
       "      <td>secondary</td>\n",
       "      <td>no</td>\n",
       "      <td>2476</td>\n",
       "      <td>yes</td>\n",
       "      <td>no</td>\n",
       "      <td>unknown</td>\n",
       "      <td>5</td>\n",
       "      <td>may</td>\n",
       "      <td>579</td>\n",
       "      <td>1</td>\n",
       "      <td>-1</td>\n",
       "      <td>0</td>\n",
       "      <td>unknown</td>\n",
       "      <td>yes</td>\n",
       "    </tr>\n",
       "    <tr>\n",
       "      <th>4</th>\n",
       "      <td>54</td>\n",
       "      <td>admin.</td>\n",
       "      <td>married</td>\n",
       "      <td>tertiary</td>\n",
       "      <td>no</td>\n",
       "      <td>184</td>\n",
       "      <td>no</td>\n",
       "      <td>no</td>\n",
       "      <td>unknown</td>\n",
       "      <td>5</td>\n",
       "      <td>may</td>\n",
       "      <td>673</td>\n",
       "      <td>2</td>\n",
       "      <td>-1</td>\n",
       "      <td>0</td>\n",
       "      <td>unknown</td>\n",
       "      <td>yes</td>\n",
       "    </tr>\n",
       "  </tbody>\n",
       "</table>\n",
       "</div>"
      ],
      "text/plain": [
       "   age         job  marital  education default  balance housing loan  contact  \\\n",
       "0   59      admin.  married  secondary      no     2343     yes   no  unknown   \n",
       "1   56      admin.  married  secondary      no       45      no   no  unknown   \n",
       "2   41  technician  married  secondary      no     1270     yes   no  unknown   \n",
       "3   55    services  married  secondary      no     2476     yes   no  unknown   \n",
       "4   54      admin.  married   tertiary      no      184      no   no  unknown   \n",
       "\n",
       "   day month  duration  campaign  pdays  previous poutcome deposit  \n",
       "0    5   may      1042         1     -1         0  unknown     yes  \n",
       "1    5   may      1467         1     -1         0  unknown     yes  \n",
       "2    5   may      1389         1     -1         0  unknown     yes  \n",
       "3    5   may       579         1     -1         0  unknown     yes  \n",
       "4    5   may       673         2     -1         0  unknown     yes  "
      ]
     },
     "execution_count": 3,
     "metadata": {},
     "output_type": "execute_result"
    }
   ],
   "source": [
    "df.head()"
   ]
  },
  {
   "cell_type": "code",
   "execution_count": 4,
   "metadata": {},
   "outputs": [
    {
     "data": {
      "text/plain": [
       "age          0\n",
       "job          0\n",
       "marital      0\n",
       "education    0\n",
       "default      0\n",
       "balance      0\n",
       "housing      0\n",
       "loan         0\n",
       "contact      0\n",
       "day          0\n",
       "month        0\n",
       "duration     0\n",
       "campaign     0\n",
       "pdays        0\n",
       "previous     0\n",
       "poutcome     0\n",
       "deposit      0\n",
       "dtype: int64"
      ]
     },
     "execution_count": 4,
     "metadata": {},
     "output_type": "execute_result"
    }
   ],
   "source": [
    "#checking for missing data if there is any and how many \n",
    "df.isnull().sum()"
   ]
  },
  {
   "cell_type": "code",
   "execution_count": 5,
   "metadata": {},
   "outputs": [
    {
     "name": "stdout",
     "output_type": "stream",
     "text": [
      "<class 'pandas.core.frame.DataFrame'>\n",
      "RangeIndex: 11162 entries, 0 to 11161\n",
      "Data columns (total 17 columns):\n",
      " #   Column     Non-Null Count  Dtype \n",
      "---  ------     --------------  ----- \n",
      " 0   age        11162 non-null  int64 \n",
      " 1   job        11162 non-null  object\n",
      " 2   marital    11162 non-null  object\n",
      " 3   education  11162 non-null  object\n",
      " 4   default    11162 non-null  object\n",
      " 5   balance    11162 non-null  int64 \n",
      " 6   housing    11162 non-null  object\n",
      " 7   loan       11162 non-null  object\n",
      " 8   contact    11162 non-null  object\n",
      " 9   day        11162 non-null  int64 \n",
      " 10  month      11162 non-null  object\n",
      " 11  duration   11162 non-null  int64 \n",
      " 12  campaign   11162 non-null  int64 \n",
      " 13  pdays      11162 non-null  int64 \n",
      " 14  previous   11162 non-null  int64 \n",
      " 15  poutcome   11162 non-null  object\n",
      " 16  deposit    11162 non-null  object\n",
      "dtypes: int64(7), object(10)\n",
      "memory usage: 1.4+ MB\n"
     ]
    }
   ],
   "source": [
    "df.info()"
   ]
  },
  {
   "cell_type": "code",
   "execution_count": 6,
   "metadata": {},
   "outputs": [],
   "source": [
    "#Splitting data into inputs as x and outputs as y\n",
    "x = df.iloc[:, :16].values\n",
    "y = df.iloc[:, -1:].values"
   ]
  },
  {
   "cell_type": "code",
   "execution_count": 7,
   "metadata": {},
   "outputs": [
    {
     "data": {
      "text/plain": [
       "(11162, 16)"
      ]
     },
     "execution_count": 7,
     "metadata": {},
     "output_type": "execute_result"
    }
   ],
   "source": [
    "#then we check the input rows and coulmns shape\n",
    "x.shape"
   ]
  },
  {
   "cell_type": "code",
   "execution_count": 8,
   "metadata": {},
   "outputs": [
    {
     "data": {
      "text/plain": [
       "array([[59, 'admin.', 'married', ..., -1, 0, 'unknown'],\n",
       "       [56, 'admin.', 'married', ..., -1, 0, 'unknown'],\n",
       "       [41, 'technician', 'married', ..., -1, 0, 'unknown'],\n",
       "       ...,\n",
       "       [32, 'technician', 'single', ..., -1, 0, 'unknown'],\n",
       "       [43, 'technician', 'married', ..., 172, 5, 'failure'],\n",
       "       [34, 'technician', 'married', ..., -1, 0, 'unknown']], dtype=object)"
      ]
     },
     "execution_count": 8,
     "metadata": {},
     "output_type": "execute_result"
    }
   ],
   "source": [
    "x"
   ]
  },
  {
   "cell_type": "code",
   "execution_count": 9,
   "metadata": {},
   "outputs": [
    {
     "data": {
      "text/plain": [
       "(11162, 1)"
      ]
     },
     "execution_count": 9,
     "metadata": {},
     "output_type": "execute_result"
    }
   ],
   "source": [
    "y.shape"
   ]
  },
  {
   "cell_type": "code",
   "execution_count": 10,
   "metadata": {},
   "outputs": [
    {
     "data": {
      "text/plain": [
       "array([['yes'],\n",
       "       ['yes'],\n",
       "       ['yes'],\n",
       "       ...,\n",
       "       ['no'],\n",
       "       ['no'],\n",
       "       ['no']], dtype=object)"
      ]
     },
     "execution_count": 10,
     "metadata": {},
     "output_type": "execute_result"
    }
   ],
   "source": [
    "y"
   ]
  },
  {
   "cell_type": "code",
   "execution_count": 11,
   "metadata": {},
   "outputs": [],
   "source": [
    "# Handling categorical data\n",
    "ct = ColumnTransformer([(\"one\",OneHotEncoder(),[1,2,3,4,6,7,8,10,15])],remainder = \"passthrough\")\n",
    "x = ct.fit_transform(x)"
   ]
  },
  {
   "cell_type": "code",
   "execution_count": 12,
   "metadata": {},
   "outputs": [
    {
     "data": {
      "text/plain": [
       "array([[1.0, 0.0, 0.0, ..., 1, -1, 0],\n",
       "       [1.0, 0.0, 0.0, ..., 1, -1, 0],\n",
       "       [0.0, 0.0, 0.0, ..., 1, -1, 0],\n",
       "       ...,\n",
       "       [0.0, 0.0, 0.0, ..., 2, -1, 0],\n",
       "       [0.0, 0.0, 0.0, ..., 2, 172, 5],\n",
       "       [0.0, 0.0, 0.0, ..., 1, -1, 0]], dtype=object)"
      ]
     },
     "execution_count": 12,
     "metadata": {},
     "output_type": "execute_result"
    }
   ],
   "source": [
    "# as we see the categorical data converted to binary\n",
    "x"
   ]
  },
  {
   "cell_type": "code",
   "execution_count": 13,
   "metadata": {},
   "outputs": [],
   "source": [
    "ct2 = ColumnTransformer([('one', OneHotEncoder(), [0])], remainder = 'passthrough')\n",
    "y = ct2.fit_transform(y)"
   ]
  },
  {
   "cell_type": "code",
   "execution_count": 14,
   "metadata": {},
   "outputs": [
    {
     "data": {
      "text/plain": [
       "array([[0., 1.],\n",
       "       [0., 1.],\n",
       "       [0., 1.],\n",
       "       ...,\n",
       "       [1., 0.],\n",
       "       [1., 0.],\n",
       "       [1., 0.]])"
      ]
     },
     "execution_count": 14,
     "metadata": {},
     "output_type": "execute_result"
    }
   ],
   "source": [
    "#as we see the yes and no data converted to 0 and 1\n",
    "y"
   ]
  },
  {
   "cell_type": "code",
   "execution_count": 15,
   "metadata": {},
   "outputs": [],
   "source": [
    "# Splitting data to train sets and test sets\n",
    "x_train,x_test,y_train,y_test = train_test_split(x,y,test_size = 0.2, random_state = 0)"
   ]
  },
  {
   "cell_type": "code",
   "execution_count": 16,
   "metadata": {},
   "outputs": [
    {
     "data": {
      "text/plain": [
       "array([[0.0, 0.0, 0.0, ..., 1, -1, 0],\n",
       "       [0.0, 0.0, 0.0, ..., 1, -1, 0],\n",
       "       [0.0, 1.0, 0.0, ..., 5, -1, 0],\n",
       "       ...,\n",
       "       [0.0, 0.0, 0.0, ..., 8, -1, 0],\n",
       "       [1.0, 0.0, 0.0, ..., 1, -1, 0],\n",
       "       [0.0, 0.0, 0.0, ..., 1, -1, 0]], dtype=object)"
      ]
     },
     "execution_count": 16,
     "metadata": {},
     "output_type": "execute_result"
    }
   ],
   "source": [
    "x_train"
   ]
  },
  {
   "cell_type": "code",
   "execution_count": 17,
   "metadata": {},
   "outputs": [
    {
     "data": {
      "text/plain": [
       "array([[1., 0.],\n",
       "       [0., 1.],\n",
       "       [0., 1.],\n",
       "       ...,\n",
       "       [1., 0.],\n",
       "       [1., 0.],\n",
       "       [0., 1.]])"
      ]
     },
     "execution_count": 17,
     "metadata": {},
     "output_type": "execute_result"
    }
   ],
   "source": [
    "y_train"
   ]
  },
  {
   "cell_type": "code",
   "execution_count": 18,
   "metadata": {},
   "outputs": [
    {
     "name": "stdout",
     "output_type": "stream",
     "text": [
      "Inputs shape  (11162, 51)\n",
      "Outputs shape  (11162, 2)\n",
      "x_train shape  (8929, 51)\n",
      "x_test shape  (2233, 51)\n",
      "y_train shape  (8929, 2)\n",
      "y_test shape (2233, 2)\n"
     ]
    }
   ],
   "source": [
    "print('Inputs shape ', x.shape)\n",
    "print('Outputs shape ', y.shape)\n",
    "print('x_train shape ', x_train.shape)\n",
    "print('x_test shape ', x_test.shape)\n",
    "print('y_train shape ', y_train.shape)\n",
    "print('y_test shape', y_test.shape)"
   ]
  },
  {
   "cell_type": "code",
   "execution_count": 19,
   "metadata": {},
   "outputs": [],
   "source": [
    "#feature scaling \n",
    "sc = StandardScaler()\n",
    "x_train = sc.fit_transform(x_train)\n",
    "x_test = sc.fit_transform(x_test)"
   ]
  },
  {
   "cell_type": "code",
   "execution_count": 20,
   "metadata": {},
   "outputs": [
    {
     "data": {
      "text/plain": [
       "array([[-0.37172192, -0.45760242, -0.17658264, ..., -0.56394809,\n",
       "        -0.48428507, -0.35888264],\n",
       "       [-0.37172192, -0.45760242, -0.17658264, ..., -0.56394809,\n",
       "        -0.48428507, -0.35888264],\n",
       "       [-0.37172192,  2.18530314, -0.17658264, ...,  0.92827075,\n",
       "        -0.48428507, -0.35888264],\n",
       "       ...,\n",
       "       [-0.37172192, -0.45760242, -0.17658264, ...,  2.04743488,\n",
       "        -0.48428507, -0.35888264],\n",
       "       [ 2.69018306, -0.45760242, -0.17658264, ..., -0.56394809,\n",
       "        -0.48428507, -0.35888264],\n",
       "       [-0.37172192, -0.45760242, -0.17658264, ..., -0.56394809,\n",
       "        -0.48428507, -0.35888264]])"
      ]
     },
     "execution_count": 20,
     "metadata": {},
     "output_type": "execute_result"
    }
   ],
   "source": [
    "# as we see compare to the previous x_train data the values has been scaled to similar unified range\n",
    "x_train"
   ]
  },
  {
   "cell_type": "code",
   "execution_count": 21,
   "metadata": {},
   "outputs": [
    {
     "data": {
      "text/plain": [
       "array([[-0.35506564, -0.46571851, -0.16329932, ..., -0.51893725,\n",
       "         2.62409874,  0.62465525],\n",
       "       [-0.35506564, -0.46571851, -0.16329932, ..., -0.51893725,\n",
       "         1.30248101,  1.63872661],\n",
       "       [-0.35506564, -0.46571851, -0.16329932, ..., -0.17189116,\n",
       "        -0.46885387, -0.38941612],\n",
       "       ...,\n",
       "       [-0.35506564, -0.46571851, -0.16329932, ..., -0.17189116,\n",
       "        -0.46885387, -0.38941612],\n",
       "       [ 2.81638066, -0.46571851, -0.16329932, ..., -0.51893725,\n",
       "        -0.46885387, -0.38941612],\n",
       "       [-0.35506564, -0.46571851, -0.16329932, ..., -0.17189116,\n",
       "        -0.46885387, -0.38941612]])"
      ]
     },
     "execution_count": 21,
     "metadata": {},
     "output_type": "execute_result"
    }
   ],
   "source": [
    "#same scaling feature thing goes for x_text data value\n",
    "x_test"
   ]
  },
  {
   "cell_type": "code",
   "execution_count": 22,
   "metadata": {},
   "outputs": [
    {
     "name": "stdout",
     "output_type": "stream",
     "text": [
      "Epoch 1/100\n",
      "280/280 [==============================] - 1s 879us/step - loss: 0.4386 - accuracy: 0.7928\n",
      "Epoch 2/100\n",
      "280/280 [==============================] - 0s 825us/step - loss: 0.3591 - accuracy: 0.8475\n",
      "Epoch 3/100\n",
      "280/280 [==============================] - 0s 859us/step - loss: 0.3464 - accuracy: 0.8540\n",
      "Epoch 4/100\n",
      "280/280 [==============================] - 0s 854us/step - loss: 0.3342 - accuracy: 0.8586\n",
      "Epoch 5/100\n",
      "280/280 [==============================] - 0s 808us/step - loss: 0.3322 - accuracy: 0.8606\n",
      "Epoch 6/100\n",
      "280/280 [==============================] - 0s 814us/step - loss: 0.3198 - accuracy: 0.8671\n",
      "Epoch 7/100\n",
      "280/280 [==============================] - 0s 901us/step - loss: 0.3109 - accuracy: 0.8717\n",
      "Epoch 8/100\n",
      "280/280 [==============================] - 0s 908us/step - loss: 0.3133 - accuracy: 0.8678\n",
      "Epoch 9/100\n",
      "280/280 [==============================] - 0s 804us/step - loss: 0.3009 - accuracy: 0.8761\n",
      "Epoch 10/100\n",
      "280/280 [==============================] - 0s 796us/step - loss: 0.2956 - accuracy: 0.8775\n",
      "Epoch 11/100\n",
      "280/280 [==============================] - 0s 802us/step - loss: 0.2903 - accuracy: 0.8794\n",
      "Epoch 12/100\n",
      "280/280 [==============================] - 0s 816us/step - loss: 0.2888 - accuracy: 0.8769\n",
      "Epoch 13/100\n",
      "280/280 [==============================] - 0s 786us/step - loss: 0.2795 - accuracy: 0.8851\n",
      "Epoch 14/100\n",
      "280/280 [==============================] - 0s 774us/step - loss: 0.2843 - accuracy: 0.8786\n",
      "Epoch 15/100\n",
      "280/280 [==============================] - 0s 771us/step - loss: 0.2706 - accuracy: 0.8867\n",
      "Epoch 16/100\n",
      "280/280 [==============================] - 0s 796us/step - loss: 0.2703 - accuracy: 0.8853\n",
      "Epoch 17/100\n",
      "280/280 [==============================] - 0s 766us/step - loss: 0.2617 - accuracy: 0.8907\n",
      "Epoch 18/100\n",
      "280/280 [==============================] - 0s 801us/step - loss: 0.2581 - accuracy: 0.8913\n",
      "Epoch 19/100\n",
      "280/280 [==============================] - 0s 783us/step - loss: 0.2537 - accuracy: 0.8908\n",
      "Epoch 20/100\n",
      "280/280 [==============================] - 0s 782us/step - loss: 0.2479 - accuracy: 0.8935\n",
      "Epoch 21/100\n",
      "280/280 [==============================] - 0s 797us/step - loss: 0.2469 - accuracy: 0.8955\n",
      "Epoch 22/100\n",
      "280/280 [==============================] - 0s 776us/step - loss: 0.2411 - accuracy: 0.8985\n",
      "Epoch 23/100\n",
      "280/280 [==============================] - 0s 774us/step - loss: 0.2307 - accuracy: 0.8997\n",
      "Epoch 24/100\n",
      "280/280 [==============================] - 0s 778us/step - loss: 0.2306 - accuracy: 0.8993\n",
      "Epoch 25/100\n",
      "280/280 [==============================] - 0s 758us/step - loss: 0.2246 - accuracy: 0.9048\n",
      "Epoch 26/100\n",
      "280/280 [==============================] - 0s 813us/step - loss: 0.2175 - accuracy: 0.9045\n",
      "Epoch 27/100\n",
      "280/280 [==============================] - 0s 787us/step - loss: 0.2127 - accuracy: 0.9057\n",
      "Epoch 28/100\n",
      "280/280 [==============================] - 0s 782us/step - loss: 0.2123 - accuracy: 0.9047\n",
      "Epoch 29/100\n",
      "280/280 [==============================] - 0s 788us/step - loss: 0.2000 - accuracy: 0.9109\n",
      "Epoch 30/100\n",
      "280/280 [==============================] - 0s 858us/step - loss: 0.2082 - accuracy: 0.9103\n",
      "Epoch 31/100\n",
      "280/280 [==============================] - 0s 818us/step - loss: 0.1924 - accuracy: 0.9131\n",
      "Epoch 32/100\n",
      "280/280 [==============================] - 0s 823us/step - loss: 0.1893 - accuracy: 0.9128\n",
      "Epoch 33/100\n",
      "280/280 [==============================] - 0s 827us/step - loss: 0.1850 - accuracy: 0.9140\n",
      "Epoch 34/100\n",
      "280/280 [==============================] - 0s 848us/step - loss: 0.1916 - accuracy: 0.9112\n",
      "Epoch 35/100\n",
      "280/280 [==============================] - 0s 811us/step - loss: 0.1724 - accuracy: 0.9199\n",
      "Epoch 36/100\n",
      "280/280 [==============================] - 0s 811us/step - loss: 0.1702 - accuracy: 0.9203\n",
      "Epoch 37/100\n",
      "280/280 [==============================] - 0s 818us/step - loss: 0.1742 - accuracy: 0.9208\n",
      "Epoch 38/100\n",
      "280/280 [==============================] - 0s 813us/step - loss: 0.1574 - accuracy: 0.9271\n",
      "Epoch 39/100\n",
      "280/280 [==============================] - 0s 864us/step - loss: 0.1526 - accuracy: 0.9292\n",
      "Epoch 40/100\n",
      "280/280 [==============================] - 0s 835us/step - loss: 0.1590 - accuracy: 0.9281\n",
      "Epoch 41/100\n",
      "280/280 [==============================] - 0s 831us/step - loss: 0.1557 - accuracy: 0.9303\n",
      "Epoch 42/100\n",
      "280/280 [==============================] - 0s 769us/step - loss: 0.1447 - accuracy: 0.9319\n",
      "Epoch 43/100\n",
      "280/280 [==============================] - 0s 802us/step - loss: 0.1478 - accuracy: 0.9330\n",
      "Epoch 44/100\n",
      "280/280 [==============================] - 0s 746us/step - loss: 0.1421 - accuracy: 0.9363\n",
      "Epoch 45/100\n",
      "280/280 [==============================] - 0s 805us/step - loss: 0.1285 - accuracy: 0.9412\n",
      "Epoch 46/100\n",
      "280/280 [==============================] - 0s 794us/step - loss: 0.1287 - accuracy: 0.9438\n",
      "Epoch 47/100\n",
      "280/280 [==============================] - 0s 794us/step - loss: 0.1273 - accuracy: 0.9422\n",
      "Epoch 48/100\n",
      "280/280 [==============================] - 0s 766us/step - loss: 0.1218 - accuracy: 0.9458\n",
      "Epoch 49/100\n",
      "280/280 [==============================] - 0s 800us/step - loss: 0.1184 - accuracy: 0.9493\n",
      "Epoch 50/100\n",
      "280/280 [==============================] - 0s 825us/step - loss: 0.1165 - accuracy: 0.9525\n",
      "Epoch 51/100\n",
      "280/280 [==============================] - 0s 799us/step - loss: 0.1431 - accuracy: 0.9406\n",
      "Epoch 52/100\n",
      "280/280 [==============================] - 0s 768us/step - loss: 0.1040 - accuracy: 0.9557\n",
      "Epoch 53/100\n",
      "280/280 [==============================] - 0s 882us/step - loss: 0.0939 - accuracy: 0.9615\n",
      "Epoch 54/100\n",
      "280/280 [==============================] - 0s 929us/step - loss: 0.0908 - accuracy: 0.9611\n",
      "Epoch 55/100\n",
      "280/280 [==============================] - 0s 839us/step - loss: 0.0992 - accuracy: 0.9578\n",
      "Epoch 56/100\n",
      "280/280 [==============================] - 0s 856us/step - loss: 0.1143 - accuracy: 0.9542\n",
      "Epoch 57/100\n",
      "280/280 [==============================] - 0s 879us/step - loss: 0.1016 - accuracy: 0.9589\n",
      "Epoch 58/100\n",
      "280/280 [==============================] - 0s 908us/step - loss: 0.0846 - accuracy: 0.9640\n",
      "Epoch 59/100\n",
      "280/280 [==============================] - 0s 906us/step - loss: 0.0854 - accuracy: 0.9670\n",
      "Epoch 60/100\n",
      "280/280 [==============================] - 0s 781us/step - loss: 0.0939 - accuracy: 0.9616\n",
      "Epoch 61/100\n",
      "280/280 [==============================] - 0s 817us/step - loss: 0.0812 - accuracy: 0.9667\n",
      "Epoch 62/100\n",
      "280/280 [==============================] - 0s 790us/step - loss: 0.0696 - accuracy: 0.9728\n",
      "Epoch 63/100\n",
      "280/280 [==============================] - 0s 790us/step - loss: 0.0673 - accuracy: 0.9738\n",
      "Epoch 64/100\n",
      "280/280 [==============================] - 0s 772us/step - loss: 0.0976 - accuracy: 0.9630\n",
      "Epoch 65/100\n",
      "280/280 [==============================] - 0s 806us/step - loss: 0.0731 - accuracy: 0.9720\n",
      "Epoch 66/100\n",
      "280/280 [==============================] - 0s 772us/step - loss: 0.0604 - accuracy: 0.9751\n",
      "Epoch 67/100\n",
      "280/280 [==============================] - 0s 799us/step - loss: 0.1639 - accuracy: 0.9441\n",
      "Epoch 68/100\n",
      "280/280 [==============================] - 0s 806us/step - loss: 0.0788 - accuracy: 0.9681\n",
      "Epoch 69/100\n",
      "280/280 [==============================] - 0s 778us/step - loss: 0.0607 - accuracy: 0.9773\n",
      "Epoch 70/100\n",
      "280/280 [==============================] - 0s 816us/step - loss: 0.0550 - accuracy: 0.9787\n",
      "Epoch 71/100\n",
      "280/280 [==============================] - 0s 786us/step - loss: 0.0450 - accuracy: 0.9840\n",
      "Epoch 72/100\n",
      "280/280 [==============================] - 0s 809us/step - loss: 0.0711 - accuracy: 0.9744\n",
      "Epoch 73/100\n",
      "280/280 [==============================] - 0s 772us/step - loss: 0.0768 - accuracy: 0.9694\n",
      "Epoch 74/100\n",
      "280/280 [==============================] - 0s 765us/step - loss: 0.0612 - accuracy: 0.9764\n",
      "Epoch 75/100\n",
      "280/280 [==============================] - 0s 780us/step - loss: 0.0560 - accuracy: 0.9806\n",
      "Epoch 76/100\n",
      "280/280 [==============================] - 0s 776us/step - loss: 0.0490 - accuracy: 0.9819\n",
      "Epoch 77/100\n",
      "280/280 [==============================] - 0s 779us/step - loss: 0.0564 - accuracy: 0.9801\n",
      "Epoch 78/100\n",
      "280/280 [==============================] - 0s 754us/step - loss: 0.0476 - accuracy: 0.9831\n",
      "Epoch 79/100\n"
     ]
    },
    {
     "name": "stdout",
     "output_type": "stream",
     "text": [
      "280/280 [==============================] - 0s 823us/step - loss: 0.0479 - accuracy: 0.9833\n",
      "Epoch 80/100\n",
      "280/280 [==============================] - 0s 802us/step - loss: 0.0764 - accuracy: 0.9736\n",
      "Epoch 81/100\n",
      "280/280 [==============================] - 0s 768us/step - loss: 0.0683 - accuracy: 0.9748\n",
      "Epoch 82/100\n",
      "280/280 [==============================] - 0s 772us/step - loss: 0.0464 - accuracy: 0.9830\n",
      "Epoch 83/100\n",
      "280/280 [==============================] - 0s 789us/step - loss: 0.0352 - accuracy: 0.9871\n",
      "Epoch 84/100\n",
      "280/280 [==============================] - 0s 776us/step - loss: 0.0325 - accuracy: 0.9881\n",
      "Epoch 85/100\n",
      "280/280 [==============================] - 0s 757us/step - loss: 0.0340 - accuracy: 0.9878\n",
      "Epoch 86/100\n",
      "280/280 [==============================] - 0s 828us/step - loss: 0.0588 - accuracy: 0.9784\n",
      "Epoch 87/100\n",
      "280/280 [==============================] - 0s 788us/step - loss: 0.0780 - accuracy: 0.9696\n",
      "Epoch 88/100\n",
      "280/280 [==============================] - 0s 782us/step - loss: 0.0531 - accuracy: 0.9820\n",
      "Epoch 89/100\n",
      "280/280 [==============================] - 0s 787us/step - loss: 0.0485 - accuracy: 0.9832\n",
      "Epoch 90/100\n",
      "280/280 [==============================] - 0s 747us/step - loss: 0.0518 - accuracy: 0.9832\n",
      "Epoch 91/100\n",
      "280/280 [==============================] - 0s 821us/step - loss: 0.0316 - accuracy: 0.9895\n",
      "Epoch 92/100\n",
      "280/280 [==============================] - 0s 810us/step - loss: 0.0253 - accuracy: 0.9917\n",
      "Epoch 93/100\n",
      "280/280 [==============================] - 0s 849us/step - loss: 0.0263 - accuracy: 0.9903\n",
      "Epoch 94/100\n",
      "280/280 [==============================] - 0s 851us/step - loss: 0.0475 - accuracy: 0.9821\n",
      "Epoch 95/100\n",
      "280/280 [==============================] - 0s 811us/step - loss: 0.0638 - accuracy: 0.9759\n",
      "Epoch 96/100\n",
      "280/280 [==============================] - 0s 807us/step - loss: 0.0434 - accuracy: 0.9821\n",
      "Epoch 97/100\n",
      "280/280 [==============================] - 0s 813us/step - loss: 0.0404 - accuracy: 0.9850\n",
      "Epoch 98/100\n",
      "280/280 [==============================] - 0s 779us/step - loss: 0.0328 - accuracy: 0.9880\n",
      "Epoch 99/100\n",
      "280/280 [==============================] - 0s 936us/step - loss: 0.0299 - accuracy: 0.9903\n",
      "Epoch 100/100\n",
      "280/280 [==============================] - 0s 970us/step - loss: 0.0402 - accuracy: 0.9848\n"
     ]
    },
    {
     "data": {
      "text/plain": [
       "<tensorflow.python.keras.callbacks.History at 0x1eba7850d90>"
      ]
     },
     "execution_count": 22,
     "metadata": {},
     "output_type": "execute_result"
    }
   ],
   "source": [
    "# now we do the deep learning ann modeling\n",
    "ob = Sequential()\n",
    "ob.add(Dense(units = 50, kernel_initializer = 'random_uniform', activation = 'relu'))# Input layer\n",
    "ob.add(Dense(units = 100, kernel_initializer = 'random_uniform', activation = 'relu'))# Hidden layer 1 \n",
    "ob.add(Dense(units = 100, kernel_initializer = 'random_uniform', activation = 'relu'))# Hidden layer 2\n",
    "ob.add(Dense(units = 2, kernel_initializer = 'random_uniform', activation = 'softmax'))# Output layer \n",
    "ob.compile(optimizer = 'adam', loss = 'categorical_crossentropy', metrics = ['accuracy'])# Compiling model \n",
    "ob.fit(x_train, y_train, epochs = 100)# Training the model "
   ]
  },
  {
   "cell_type": "code",
   "execution_count": 23,
   "metadata": {},
   "outputs": [
    {
     "data": {
      "text/plain": [
       "array([[1.0000000e+00, 9.1965632e-23],\n",
       "       [3.5886452e-15, 1.0000000e+00],\n",
       "       [1.0000000e+00, 6.8453629e-17],\n",
       "       ...,\n",
       "       [6.1810006e-06, 9.9999380e-01],\n",
       "       [1.0000000e+00, 3.8671455e-14],\n",
       "       [1.0000000e+00, 5.4586826e-13]], dtype=float32)"
      ]
     },
     "execution_count": 23,
     "metadata": {},
     "output_type": "execute_result"
    }
   ],
   "source": [
    "ypred = ob.predict(x_test)\n",
    "ypred"
   ]
  },
  {
   "cell_type": "code",
   "execution_count": 24,
   "metadata": {},
   "outputs": [
    {
     "data": {
      "text/html": [
       "<div>\n",
       "<style scoped>\n",
       "    .dataframe tbody tr th:only-of-type {\n",
       "        vertical-align: middle;\n",
       "    }\n",
       "\n",
       "    .dataframe tbody tr th {\n",
       "        vertical-align: top;\n",
       "    }\n",
       "\n",
       "    .dataframe thead th {\n",
       "        text-align: right;\n",
       "    }\n",
       "</style>\n",
       "<table border=\"1\" class=\"dataframe\">\n",
       "  <thead>\n",
       "    <tr style=\"text-align: right;\">\n",
       "      <th></th>\n",
       "      <th>age</th>\n",
       "      <th>job</th>\n",
       "      <th>marital</th>\n",
       "      <th>education</th>\n",
       "      <th>default</th>\n",
       "      <th>balance</th>\n",
       "      <th>housing</th>\n",
       "      <th>loan</th>\n",
       "      <th>contact</th>\n",
       "      <th>day</th>\n",
       "      <th>month</th>\n",
       "      <th>duration</th>\n",
       "      <th>campaign</th>\n",
       "      <th>pdays</th>\n",
       "      <th>previous</th>\n",
       "      <th>poutcome</th>\n",
       "      <th>deposit</th>\n",
       "    </tr>\n",
       "  </thead>\n",
       "  <tbody>\n",
       "    <tr>\n",
       "      <th>0</th>\n",
       "      <td>59</td>\n",
       "      <td>admin.</td>\n",
       "      <td>married</td>\n",
       "      <td>secondary</td>\n",
       "      <td>no</td>\n",
       "      <td>2343</td>\n",
       "      <td>yes</td>\n",
       "      <td>no</td>\n",
       "      <td>unknown</td>\n",
       "      <td>5</td>\n",
       "      <td>may</td>\n",
       "      <td>1042</td>\n",
       "      <td>1</td>\n",
       "      <td>-1</td>\n",
       "      <td>0</td>\n",
       "      <td>unknown</td>\n",
       "      <td>yes</td>\n",
       "    </tr>\n",
       "    <tr>\n",
       "      <th>1</th>\n",
       "      <td>56</td>\n",
       "      <td>admin.</td>\n",
       "      <td>married</td>\n",
       "      <td>secondary</td>\n",
       "      <td>no</td>\n",
       "      <td>45</td>\n",
       "      <td>no</td>\n",
       "      <td>no</td>\n",
       "      <td>unknown</td>\n",
       "      <td>5</td>\n",
       "      <td>may</td>\n",
       "      <td>1467</td>\n",
       "      <td>1</td>\n",
       "      <td>-1</td>\n",
       "      <td>0</td>\n",
       "      <td>unknown</td>\n",
       "      <td>yes</td>\n",
       "    </tr>\n",
       "    <tr>\n",
       "      <th>2</th>\n",
       "      <td>41</td>\n",
       "      <td>technician</td>\n",
       "      <td>married</td>\n",
       "      <td>secondary</td>\n",
       "      <td>no</td>\n",
       "      <td>1270</td>\n",
       "      <td>yes</td>\n",
       "      <td>no</td>\n",
       "      <td>unknown</td>\n",
       "      <td>5</td>\n",
       "      <td>may</td>\n",
       "      <td>1389</td>\n",
       "      <td>1</td>\n",
       "      <td>-1</td>\n",
       "      <td>0</td>\n",
       "      <td>unknown</td>\n",
       "      <td>yes</td>\n",
       "    </tr>\n",
       "    <tr>\n",
       "      <th>3</th>\n",
       "      <td>55</td>\n",
       "      <td>services</td>\n",
       "      <td>married</td>\n",
       "      <td>secondary</td>\n",
       "      <td>no</td>\n",
       "      <td>2476</td>\n",
       "      <td>yes</td>\n",
       "      <td>no</td>\n",
       "      <td>unknown</td>\n",
       "      <td>5</td>\n",
       "      <td>may</td>\n",
       "      <td>579</td>\n",
       "      <td>1</td>\n",
       "      <td>-1</td>\n",
       "      <td>0</td>\n",
       "      <td>unknown</td>\n",
       "      <td>yes</td>\n",
       "    </tr>\n",
       "    <tr>\n",
       "      <th>4</th>\n",
       "      <td>54</td>\n",
       "      <td>admin.</td>\n",
       "      <td>married</td>\n",
       "      <td>tertiary</td>\n",
       "      <td>no</td>\n",
       "      <td>184</td>\n",
       "      <td>no</td>\n",
       "      <td>no</td>\n",
       "      <td>unknown</td>\n",
       "      <td>5</td>\n",
       "      <td>may</td>\n",
       "      <td>673</td>\n",
       "      <td>2</td>\n",
       "      <td>-1</td>\n",
       "      <td>0</td>\n",
       "      <td>unknown</td>\n",
       "      <td>yes</td>\n",
       "    </tr>\n",
       "  </tbody>\n",
       "</table>\n",
       "</div>"
      ],
      "text/plain": [
       "   age         job  marital  education default  balance housing loan  contact  \\\n",
       "0   59      admin.  married  secondary      no     2343     yes   no  unknown   \n",
       "1   56      admin.  married  secondary      no       45      no   no  unknown   \n",
       "2   41  technician  married  secondary      no     1270     yes   no  unknown   \n",
       "3   55    services  married  secondary      no     2476     yes   no  unknown   \n",
       "4   54      admin.  married   tertiary      no      184      no   no  unknown   \n",
       "\n",
       "   day month  duration  campaign  pdays  previous poutcome deposit  \n",
       "0    5   may      1042         1     -1         0  unknown     yes  \n",
       "1    5   may      1467         1     -1         0  unknown     yes  \n",
       "2    5   may      1389         1     -1         0  unknown     yes  \n",
       "3    5   may       579         1     -1         0  unknown     yes  \n",
       "4    5   may       673         2     -1         0  unknown     yes  "
      ]
     },
     "execution_count": 24,
     "metadata": {},
     "output_type": "execute_result"
    }
   ],
   "source": [
    "df.head()"
   ]
  },
  {
   "cell_type": "code",
   "execution_count": null,
   "metadata": {},
   "outputs": [],
   "source": []
  }
 ],
 "metadata": {
  "kernelspec": {
   "display_name": "Python 3",
   "language": "python",
   "name": "python3"
  },
  "language_info": {
   "codemirror_mode": {
    "name": "ipython",
    "version": 3
   },
   "file_extension": ".py",
   "mimetype": "text/x-python",
   "name": "python",
   "nbconvert_exporter": "python",
   "pygments_lexer": "ipython3",
   "version": "3.8.5"
  }
 },
 "nbformat": 4,
 "nbformat_minor": 4
}
